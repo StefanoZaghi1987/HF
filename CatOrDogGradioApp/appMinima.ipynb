{
 "cells": [
  {
   "cell_type": "code",
   "execution_count": 1,
   "id": "5d6bbf8a",
   "metadata": {},
   "outputs": [],
   "source": [
    "# Clean output files\n",
    "!rm -rf /kaggle/working/*"
   ]
  },
  {
   "cell_type": "code",
   "execution_count": 2,
   "id": "393ae9be",
   "metadata": {},
   "outputs": [],
   "source": [
    "#|default_exp app"
   ]
  },
  {
   "cell_type": "code",
   "execution_count": 3,
   "id": "28d8cca9",
   "metadata": {},
   "outputs": [],
   "source": [
    "# Make sure we've got the latest version of fastai:\n",
    "!pip install -Uqq fastai gradio nbdev"
   ]
  },
  {
   "cell_type": "code",
   "execution_count": 4,
   "id": "2a9d7719",
   "metadata": {},
   "outputs": [],
   "source": [
    "#|export\n",
    "from fastai.vision.all import *\n",
    "import gradio as gr\n",
    "\n",
    "def is_cat(x): return x[0].isupper()"
   ]
  },
  {
   "cell_type": "code",
   "execution_count": 5,
   "id": "a2dccd29",
   "metadata": {},
   "outputs": [],
   "source": [
    "path_train = untar_data(URLs.PETS)/'images'\n",
    "\n",
    "dls_train = ImageDataLoaders.from_name_func('.',\n",
    "    get_image_files(path_train), valid_pct=0.2, seed=42,\n",
    "    label_func=is_cat,\n",
    "    item_tfms=Resize(192, method='squish'))"
   ]
  },
  {
   "cell_type": "code",
   "execution_count": 6,
   "id": "9af53f6e",
   "metadata": {},
   "outputs": [],
   "source": [
    "learn_train = vision_learner(dls_train, resnet18, metrics=error_rate)\n",
    "learn_train.fine_tune(3)"
   ]
  },
  {
   "cell_type": "code",
   "execution_count": 7,
   "id": "2de3b567",
   "metadata": {},
   "outputs": [],
   "source": [
    "learn_train.save('model.pkl')"
   ]
  },
  {
   "cell_type": "code",
   "execution_count": 8,
   "id": "85a0b562",
   "metadata": {},
   "outputs": [],
   "source": [
    "im = PILImage.create('/kaggle/input/inputdata/dog.jpg')\n",
    "im.thumbnail((192,192))\n",
    "im"
   ]
  },
  {
   "cell_type": "code",
   "execution_count": 9,
   "id": "d215c447",
   "metadata": {},
   "outputs": [],
   "source": [
    "#|export\n",
    "path_test = untar_data(URLs.PETS)/'images'\n",
    "\n",
    "dls_test = ImageDataLoaders.from_name_func('.',\n",
    "    get_image_files(path_test), valid_pct=0.2, seed=42,\n",
    "    label_func=is_cat,\n",
    "    item_tfms=Resize(192, method='squish'))"
   ]
  },
  {
   "cell_type": "code",
   "execution_count": 10,
   "id": "191af41c",
   "metadata": {},
   "outputs": [],
   "source": [
    "#|export\n",
    "learn_test = vision_learner(dls_test, resnet18, metrics=error_rate)"
   ]
  },
  {
   "cell_type": "code",
   "execution_count": 11,
   "id": "1a2b008a",
   "metadata": {},
   "outputs": [],
   "source": [
    "#|export\n",
    "learn_test.load('model.pkl')"
   ]
  },
  {
   "cell_type": "code",
   "execution_count": 12,
   "id": "aaf52f8e",
   "metadata": {},
   "outputs": [],
   "source": [
    "learn_test.predict(im)"
   ]
  },
  {
   "cell_type": "code",
   "execution_count": 13,
   "id": "9aa624ce",
   "metadata": {},
   "outputs": [],
   "source": [
    "#|export\n",
    "categories = ('Dog', 'Cat')\n",
    "\n",
    "def classify_image(img):\n",
    "    pred,idx,probs = learn_test.predict(img)\n",
    "    return dict(zip(categories, map(float,probs)))"
   ]
  },
  {
   "cell_type": "code",
   "execution_count": 14,
   "id": "cc1096e0",
   "metadata": {},
   "outputs": [],
   "source": [
    "classify_image(im)"
   ]
  },
  {
   "cell_type": "code",
   "execution_count": 15,
   "id": "0b797054",
   "metadata": {},
   "outputs": [],
   "source": [
    "#|export\n",
    "image = gr.Image()\n",
    "label = gr.Label()\n",
    "examples = ['dog.jpg', 'cat.jpg', 'dunno.jpg']\n",
    "\n",
    "intf = gr.Interface(fn=classify_image, inputs=image, outputs=label, examples=examples)\n",
    "intf.launch(inline=False)"
   ]
  },
  {
   "cell_type": "code",
   "execution_count": 16,
   "id": "30cfe814",
   "metadata": {},
   "outputs": [],
   "source": [
    "from nbdev.export import nb_export"
   ]
  }
 ],
 "metadata": {},
 "nbformat": 4,
 "nbformat_minor": 5
}
