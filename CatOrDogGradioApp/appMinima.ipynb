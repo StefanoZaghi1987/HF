{
 "cells": [
  {
   "cell_type": "code",
   "execution_count": 1,
   "id": "a77a3510",
   "metadata": {},
   "outputs": [],
   "source": [
    "# Clean output files\n",
    "!rm -rf /kaggle/working/*"
   ]
  },
  {
   "cell_type": "code",
   "execution_count": 2,
   "id": "5addd08b",
   "metadata": {},
   "outputs": [],
   "source": [
    "#|default_exp app"
   ]
  },
  {
   "cell_type": "code",
   "execution_count": 3,
   "id": "ae5c6f27",
   "metadata": {},
   "outputs": [],
   "source": [
    "# Make sure we've got the latest version of fastai:\n",
    "!pip install -Uqq fastai gradio nbdev"
   ]
  },
  {
   "cell_type": "code",
   "execution_count": 4,
   "id": "2ff55621",
   "metadata": {},
   "outputs": [],
   "source": [
    "#|export\n",
    "from fastai.vision.all import *\n",
    "import gradio as gr\n",
    "\n",
    "def is_cat(x): return x[0].isupper()"
   ]
  },
  {
   "cell_type": "code",
   "execution_count": 5,
   "id": "2651932c",
   "metadata": {},
   "outputs": [],
   "source": [
    "path_train = untar_data(URLs.PETS)/'images'\n",
    "\n",
    "dls_train = ImageDataLoaders.from_name_func('.',\n",
    "    get_image_files(path_train), valid_pct=0.2, seed=42,\n",
    "    label_func=is_cat,\n",
    "    item_tfms=Resize(192, method='squish'))"
   ]
  },
  {
   "cell_type": "code",
   "execution_count": 6,
   "id": "a4247aca",
   "metadata": {},
   "outputs": [],
   "source": [
    "learn_train = vision_learner(dls_train, resnet18, metrics=error_rate)\n",
    "learn_train.fine_tune(3)"
   ]
  },
  {
   "cell_type": "code",
   "execution_count": 7,
   "id": "e094244d",
   "metadata": {},
   "outputs": [],
   "source": [
    "learn_train.save('model.pkl')"
   ]
  },
  {
   "cell_type": "code",
   "execution_count": 8,
   "id": "9e2694d8",
   "metadata": {},
   "outputs": [],
   "source": [
    "im = PILImage.create('/kaggle/input/inputdata/dog.jpg')\n",
    "im.thumbnail((192,192))\n",
    "im"
   ]
  },
  {
   "cell_type": "code",
   "execution_count": 9,
   "id": "77575838",
   "metadata": {},
   "outputs": [],
   "source": [
    "path_test = untar_data(URLs.PETS)/'images'\n",
    "\n",
    "dls_test = ImageDataLoaders.from_name_func('.',\n",
    "    get_image_files(path_test), valid_pct=0.2, seed=42,\n",
    "    label_func=is_cat,\n",
    "    item_tfms=Resize(192, method='squish'))"
   ]
  },
  {
   "cell_type": "code",
   "execution_count": 10,
   "id": "b01d028f",
   "metadata": {},
   "outputs": [],
   "source": [
    "#|export\n",
    "learn_test = vision_learner(dls_train, resnet18, metrics=error_rate)"
   ]
  },
  {
   "cell_type": "code",
   "execution_count": 11,
   "id": "b393b298",
   "metadata": {},
   "outputs": [],
   "source": [
    "#|export\n",
    "learn_test.load('model.pkl')"
   ]
  },
  {
   "cell_type": "code",
   "execution_count": 12,
   "id": "fa0b263c",
   "metadata": {},
   "outputs": [],
   "source": [
    "learn_test.predict(im)"
   ]
  },
  {
   "cell_type": "code",
   "execution_count": 13,
   "id": "a84e48a9",
   "metadata": {},
   "outputs": [],
   "source": [
    "#|export\n",
    "categories = ('Dog', 'Cat')\n",
    "\n",
    "def classify_image(img):\n",
    "    pred,idx,probs = learn_test.predict(img)\n",
    "    return dict(zip(categories, map(float,probs)))"
   ]
  },
  {
   "cell_type": "code",
   "execution_count": 14,
   "id": "a965d03c",
   "metadata": {},
   "outputs": [],
   "source": [
    "classify_image(im)"
   ]
  },
  {
   "cell_type": "code",
   "execution_count": 15,
   "id": "3621cfae",
   "metadata": {},
   "outputs": [],
   "source": [
    "#|export\n",
    "image = gr.Image()\n",
    "label = gr.Label()\n",
    "examples = ['dog.jpg', 'cat.jpg', 'dunno.jpg']\n",
    "\n",
    "intf = gr.Interface(fn=classify_image, inputs=image, outputs=label, examples=examples)\n",
    "intf.launch(inline=False)"
   ]
  },
  {
   "cell_type": "code",
   "execution_count": 16,
   "id": "d2e21750",
   "metadata": {},
   "outputs": [],
   "source": [
    "from nbdev.export import nb_export"
   ]
  }
 ],
 "metadata": {},
 "nbformat": 4,
 "nbformat_minor": 5
}
